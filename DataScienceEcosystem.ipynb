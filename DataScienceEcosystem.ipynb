{
 "cells": [
  {
   "cell_type": "markdown",
   "id": "0cb2e0af",
   "metadata": {},
   "source": [
    "# Data Science Tools and Ecosystem"
   ]
  },
  {
   "cell_type": "markdown",
   "id": "cd4f0c72",
   "metadata": {},
   "source": [
    "# Objectives:\n",
    "\n",
    "* Create a Jupyter Notebook\n",
    "* Insert code and markdown cells\n",
    "* Share your notebook through GitHub\n"
   ]
  },
  {
   "cell_type": "markdown",
   "id": "a9d4ca73",
   "metadata": {},
   "source": [
    "In this notebook, Data Science Tools and Ecosystem are summarized."
   ]
  },
  {
   "cell_type": "markdown",
   "id": "42479dce",
   "metadata": {},
   "source": [
    "Some of the popular languages that Data Scientists use are:\n",
    "1. python\n",
    "2. Julia\n",
    "3. Java\n",
    "4. C++\n",
    "5. R\n",
    "6. JavaScript"
   ]
  },
  {
   "cell_type": "markdown",
   "id": "058c344c",
   "metadata": {},
   "source": [
    "Some of the commonly used libraries used by Data Scientists include:\n",
    "1. ggplot\n",
    "2. pandas\n",
    "3. Numpy\n",
    "4. scikitlearn\n",
    "5. seaborn\n",
    "6. Matplotlib"
   ]
  },
  {
   "cell_type": "markdown",
   "id": "8dd95678",
   "metadata": {},
   "source": [
    "| Data Science Tools |\n",
    "-------------------------------\n",
    "| Jupiter notebook |\n",
    "| JupiterLite |\n",
    "| Kubernetes |\n",
    "| Apache zepellin |"
   ]
  },
  {
   "cell_type": "markdown",
   "id": "9e210fb7",
   "metadata": {},
   "source": [
    "### Below are a few examples of evaluating arithmetic expressions in Python\n",
    "Simple arithmetic expressions\n",
    "print(1 + 2)  # 3\n",
    "print(10 - 5)  # 5\n",
    "print(2 * 3)  # 6\n",
    "print(4 / 2)  # 2.0\n",
    "\n",
    "Expressions with parentheses\n",
    "print((1 + 2) * 3)  # 9\n",
    "print(10 / (2 + 3))  # 2.5\n",
    "\n",
    "Expressions with variables\n",
    "a = 10\n",
    "b = 5\n",
    "\n",
    "print(a + b)  # 15\n",
    "print(a - b)  # 5\n",
    "print(a * b)  # 50\n",
    "print(a / b)  # 2.0\n",
    "\n",
    "Expressions with built-in functions\n",
    "print(abs(-10))  # 10\n",
    "print(pow(2, 3))  # 8\n",
    "print(max(1, 2, 3))  # 3\n",
    "print(min(1, 2, 3))  # 1\n"
   ]
  },
  {
   "cell_type": "code",
   "execution_count": 2,
   "id": "1d174f4b",
   "metadata": {},
   "outputs": [
    {
     "data": {
      "text/plain": [
       "17"
      ]
     },
     "execution_count": 2,
     "metadata": {},
     "output_type": "execute_result"
    }
   ],
   "source": [
    "(3*4)+5\n",
    "# This a simple arithmetic expression to mutiply then add integers"
   ]
  },
  {
   "cell_type": "code",
   "execution_count": 3,
   "id": "79585d1b",
   "metadata": {},
   "outputs": [
    {
     "data": {
      "text/plain": [
       "3.3333333333333335"
      ]
     },
     "execution_count": 3,
     "metadata": {},
     "output_type": "execute_result"
    }
   ],
   "source": [
    "# This will convert 200 minutes to hours by diving by 60\n",
    "200/60"
   ]
  },
  {
   "cell_type": "markdown",
   "id": "022bd9f5",
   "metadata": {},
   "source": [
    "## Author\n",
    "\n",
    "[Lakshmi Holla](https://www.linkedin.com/in/lakshmi-holla-b39062149?utm_medium=Exinfluencer&utm_source=Exinfluencer&utm_content=000026UJ&utm_term=10006555&utm_id=NA-SkillsNetwork-Channel-SkillsNetworkCoursesIBMDeveloperSkillsNetworkDS0105ENSkillsNetwork984-2023-01-01)<br>\n",
    "[Niveditha Pandith](https://www.linkedin.com/in/niveditha-pandith-53a057231?utm_medium=Exinfluencer&utm_source=Exinfluencer&utm_content=000026UJ&utm_term=10006555&utm_id=NA-SkillsNetwork-Channel-SkillsNetworkCoursesIBMDeveloperSkillsNetworkDS0105ENSkillsNetwork984-2023-01-01)"
   ]
  }
 ],
 "metadata": {
  "kernelspec": {
   "display_name": "Python 3 (ipykernel)",
   "language": "python",
   "name": "python3"
  },
  "language_info": {
   "codemirror_mode": {
    "name": "ipython",
    "version": 3
   },
   "file_extension": ".py",
   "mimetype": "text/x-python",
   "name": "python",
   "nbconvert_exporter": "python",
   "pygments_lexer": "ipython3",
   "version": "3.10.9"
  }
 },
 "nbformat": 4,
 "nbformat_minor": 5
}
